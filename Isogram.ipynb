{
  "nbformat": 4,
  "nbformat_minor": 0,
  "metadata": {
    "colab": {
      "name": "Isogram.ipynb",
      "provenance": [],
      "authorship_tag": "ABX9TyMsCud3FPxt0RHIF+xPOVoh",
      "include_colab_link": true
    },
    "kernelspec": {
      "name": "python3",
      "display_name": "Python 3"
    }
  },
  "cells": [
    {
      "cell_type": "markdown",
      "metadata": {
        "id": "view-in-github",
        "colab_type": "text"
      },
      "source": [
        "<a href=\"https://colab.research.google.com/github/MangoSomewhere/Codwars-Challenge-Is-there-a-duplicate-value-/blob/main/Isogram.ipynb\" target=\"_parent\"><img src=\"https://colab.research.google.com/assets/colab-badge.svg\" alt=\"Open In Colab\"/></a>"
      ]
    },
    {
      "cell_type": "code",
      "metadata": {
        "id": "e1jyoxV9PGVs",
        "outputId": "60b1ecdb-a4f8-4f75-bd5c-1d09b288daf2",
        "colab": {
          "base_uri": "https://localhost:8080/",
          "height": 35
        }
      },
      "source": [
        "\"\"\"\n",
        "Parameters:\n",
        "\n",
        "Boolean test if input string has duplicate values return 'False'. \n",
        "\n",
        "Boolean test ignores the letter case.\n",
        "\n",
        "Boolean test must analyze input even if duplicate characters may not be adjacent \n",
        "to each other. \n",
        "\"\"\""
      ],
      "execution_count": null,
      "outputs": [
        {
          "output_type": "execute_result",
          "data": {
            "application/vnd.google.colaboratory.intrinsic+json": {
              "type": "string"
            },
            "text/plain": [
              "\"\\nBoolean test if input string has duplicate values return 'False'. \\n\\nBoolean test ignores the letter case.\\n\\nBoolean test must analyze input even if duplicate characters may not be adjacent \\nto each other. \\n\""
            ]
          },
          "metadata": {
            "tags": []
          },
          "execution_count": 12
        }
      ]
    },
    {
      "cell_type": "code",
      "metadata": {
        "id": "UNBPWZJHPKqo",
        "outputId": "7f781261-f244-4973-d4b3-fdfe497fe71a",
        "colab": {
          "base_uri": "https://localhost:8080/"
        }
      },
      "source": [
        "#string = \"Dermatoglyphics\"\n",
        "#string = \"isogram\"\n",
        "#string = \"aab\"\n",
        "string = \"moOse\"\n",
        "#string = \"isIsogram\"\n",
        "\n",
        "def is_isogram(string):\n",
        "  string = string.lower()\n",
        "  print(string)\n",
        "  if len(string) == 0:\n",
        "    return True \n",
        "  else:\n",
        "    for elem in string:\n",
        "      x = list(string).count(elem)\n",
        "      if x > 1:\n",
        "        return False \n",
        "    else: \n",
        "      return True \n",
        "is_isogram(string)"
      ],
      "execution_count": null,
      "outputs": [
        {
          "output_type": "stream",
          "text": [
            "moose\n"
          ],
          "name": "stdout"
        },
        {
          "output_type": "execute_result",
          "data": {
            "text/plain": [
              "False"
            ]
          },
          "metadata": {
            "tags": []
          },
          "execution_count": 104
        }
      ]
    }
  ]
}